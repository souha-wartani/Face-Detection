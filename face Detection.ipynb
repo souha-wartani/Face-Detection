{
 "cells": [
  {
   "cell_type": "code",
   "execution_count": 1,
   "metadata": {},
   "outputs": [],
   "source": [
    "import cv2\n",
    "from random import randrange"
   ]
  },
  {
   "cell_type": "markdown",
   "metadata": {},
   "source": [
    "Load some pre-trained data on face frontals from opencv (Cascade Algorithm)"
   ]
  },
  {
   "cell_type": "code",
   "execution_count": 2,
   "metadata": {},
   "outputs": [],
   "source": [
    "trained_face_data = cv2.CascadeClassifier('haarcascade_frontalface_default.xml')"
   ]
  },
  {
   "cell_type": "markdown",
   "metadata": {},
   "source": [
    "to capture video from webcam"
   ]
  },
  {
   "cell_type": "code",
   "execution_count": 3,
   "metadata": {},
   "outputs": [],
   "source": [
    "####to capture video from webcam\n",
    "webcam =cv2.VideoCapture(0)"
   ]
  },
  {
   "cell_type": "code",
   "execution_count": 4,
   "metadata": {},
   "outputs": [],
   "source": [
    "###iterate forever frames\n",
    "while True:\n",
    "    succeful_frame_read, frame =webcam.read()\n",
    "    #Must convert to grayscale\n",
    "    grayscaled_img = cv2.cvtColor(frame,cv2.COLOR_BGR2GRAY)\n",
    "    #detect Faces\n",
    "    face_coordinates = trained_face_data.detectMultiScale(grayscaled_img)\n",
    "    \n",
    "    #detect Faces\n",
    "    for(x, y, w, h) in face_coordinates :\n",
    "        cv2.rectangle(frame, (x, y), (x+w, y+h), (randrange(256), randrange(256), randrange(256)), 2)\n",
    "    \n",
    "    cv2.imshow('Face detector',frame)\n",
    "    key = cv2.waitKey(1)\n",
    "    \n",
    "    ###stop if 0 key is pressed\n",
    "    if key==81 or key==113:\n",
    "        break\n",
    "\n",
    "###release the VideoCapture object\n",
    "webcam.release()"
   ]
  }
 ],
 "metadata": {
  "kernelspec": {
   "display_name": "Python 3",
   "language": "python",
   "name": "python3"
  },
  "language_info": {
   "codemirror_mode": {
    "name": "ipython",
    "version": 3
   },
   "file_extension": ".py",
   "mimetype": "text/x-python",
   "name": "python",
   "nbconvert_exporter": "python",
   "pygments_lexer": "ipython3",
   "version": "3.7.9"
  }
 },
 "nbformat": 4,
 "nbformat_minor": 4
}
